{
 "cells": [
  {
   "cell_type": "markdown",
   "id": "423d701a",
   "metadata": {
    "toc": true
   },
   "source": [
    "<h1>Table of Contents<span class=\"tocSkip\"></span></h1>\n",
    "<div class=\"toc\"><ul class=\"toc-item\"><li><span><a href=\"#SAFER-Wearables-Planning\" data-toc-modified-id=\"SAFER-Wearables-Planning-1\"><span class=\"toc-item-num\">1&nbsp;&nbsp;</span>SAFER Wearables Planning</a></span><ul class=\"toc-item\"><li><span><a href=\"#Recruitment\" data-toc-modified-id=\"Recruitment-1.1\"><span class=\"toc-item-num\">1.1&nbsp;&nbsp;</span>Recruitment</a></span><ul class=\"toc-item\"><li><span><a href=\"#Assumptions\" data-toc-modified-id=\"Assumptions-1.1.1\"><span class=\"toc-item-num\">1.1.1&nbsp;&nbsp;</span>Assumptions</a></span></li><li><span><a href=\"#Participant-numbers-for-an-individual-GP-Practice\" data-toc-modified-id=\"Participant-numbers-for-an-individual-GP-Practice-1.1.2\"><span class=\"toc-item-num\">1.1.2&nbsp;&nbsp;</span>Participant numbers for an individual GP Practice</a></span></li><li><span><a href=\"#Number-of-GP-Practices-required\" data-toc-modified-id=\"Number-of-GP-Practices-required-1.1.3\"><span class=\"toc-item-num\">1.1.3&nbsp;&nbsp;</span>Number of GP Practices required</a></span></li></ul></li><li><span><a href=\"#Costs\" data-toc-modified-id=\"Costs-1.2\"><span class=\"toc-item-num\">1.2&nbsp;&nbsp;</span>Costs</a></span><ul class=\"toc-item\"><li><span><a href=\"#Assumptions\" data-toc-modified-id=\"Assumptions-1.2.1\"><span class=\"toc-item-num\">1.2.1&nbsp;&nbsp;</span>Assumptions</a></span></li></ul></li></ul></li></ul></div>"
   ]
  },
  {
   "cell_type": "code",
   "execution_count": 1,
   "id": "b465c974",
   "metadata": {},
   "outputs": [],
   "source": [
    "# Setup\n",
    "import math as m"
   ]
  },
  {
   "cell_type": "markdown",
   "id": "34eb9ec9",
   "metadata": {},
   "source": [
    "# SAFER Wearables Planning\n"
   ]
  },
  {
   "cell_type": "markdown",
   "id": "444cb2a8",
   "metadata": {},
   "source": [
    "## Recruitment"
   ]
  },
  {
   "cell_type": "markdown",
   "id": "9a0edd9a",
   "metadata": {},
   "source": [
    "### Assumptions\n",
    "\n",
    "- SAFER Wearables Study"
   ]
  },
  {
   "cell_type": "code",
   "execution_count": 2,
   "id": "2917e06c",
   "metadata": {},
   "outputs": [],
   "source": [
    "n_pts = 130 # Total number of participants in SAFER Wearables\n",
    "n_AF_pts = n_pts/2 # Number of AF participants\n",
    "n_nonAF_pts = n_pts/2 # Number of non-AF participants"
   ]
  },
  {
   "cell_type": "markdown",
   "id": "1785562a",
   "metadata": {},
   "source": [
    "- SAFER Programme"
   ]
  },
  {
   "cell_type": "code",
   "execution_count": 3,
   "id": "c63f062b",
   "metadata": {},
   "outputs": [],
   "source": [
    "n_safer_pts_per_prac = 350 # Number of SAFER Programme participants per practice\n",
    "AF_rate = 0.03 # Proportion of participants diagnosed with AF in SAFER Programme"
   ]
  },
  {
   "cell_type": "markdown",
   "id": "d57f8547",
   "metadata": {},
   "source": [
    "- Recruitment"
   ]
  },
  {
   "cell_type": "code",
   "execution_count": 4,
   "id": "30fe48d9",
   "metadata": {},
   "outputs": [],
   "source": [
    "n_suggested_per_practice = 45 # number of potential participants suggested to each practice\n",
    "prop_contacted = 0.8 # proportion of SAFER participants who are suitable for the SAFER Wearables study who will be contacted by their practice (remaidner won't be due to changing practice, or not meeting the eligibility criteria)"
   ]
  },
  {
   "cell_type": "markdown",
   "id": "1dd38432",
   "metadata": {},
   "source": [
    "- Participation"
   ]
  },
  {
   "cell_type": "code",
   "execution_count": 5,
   "id": "79af6119",
   "metadata": {},
   "outputs": [],
   "source": [
    "participation_rate = 0.5 # proportion of invitees who will participate"
   ]
  },
  {
   "cell_type": "markdown",
   "id": "87d82312",
   "metadata": {},
   "source": [
    "### Participant numbers for an individual GP Practice"
   ]
  },
  {
   "cell_type": "code",
   "execution_count": 6,
   "id": "ea0b193a",
   "metadata": {},
   "outputs": [
    {
     "name": "stdout",
     "output_type": "stream",
     "text": [
      "Number suggested potential participants per practice: 45 (10 AF, 35 non-AF)\n",
      "Number invitations per practice: 36 (8 AF, 28 non-AF)\n",
      "Expected number SAFER Wearables participants per practice: 18 (4 AF, 14 non-AF)\n"
     ]
    }
   ],
   "source": [
    "# - SAFER participants\n",
    "n_safer_AF_pts_per_prac = m.floor(AF_rate*n_safer_pts_per_prac)\n",
    "n_safer_nonAF_pts_per_prac = m.floor((1-AF_rate)*n_safer_pts_per_prac)\n",
    "\n",
    "# - Suggested possible participants\n",
    "n_safer_AF_pts_per_prac_suggested = n_safer_AF_pts_per_prac\n",
    "n_safer_nonAF_pts_per_prac_suggested = n_suggested_per_practice - n_safer_AF_pts_per_prac_suggested\n",
    "n_safer_pts_per_prac_suggested = n_safer_AF_pts_per_prac_suggested + n_safer_nonAF_pts_per_prac_suggested\n",
    "print(\"Number suggested potential participants per practice: %d (%d AF, %d non-AF)\" % (n_safer_pts_per_prac_suggested, n_safer_AF_pts_per_prac_suggested, n_safer_nonAF_pts_per_prac_suggested))\n",
    "\n",
    "# - invitations\n",
    "n_AF_pts_invited_per_prac = m.floor(n_safer_AF_pts_per_prac_suggested*prop_contacted)\n",
    "n_nonAF_pts_invited_per_prac = m.floor(n_safer_nonAF_pts_per_prac_suggested*prop_contacted)\n",
    "n_invites_per_prac = n_nonAF_pts_invited_per_prac + n_AF_pts_invited_per_prac\n",
    "print(\"Number invitations per practice: %d (%d AF, %d non-AF)\" % (n_invites_per_prac, n_AF_pts_invited_per_prac, n_nonAF_pts_invited_per_prac))\n",
    "\n",
    "# - participants\n",
    "n_AF_pts_per_prac = m.floor(n_AF_pts_invited_per_prac*participation_rate)\n",
    "n_nonAF_pts_per_prac = m.floor(n_nonAF_pts_invited_per_prac*participation_rate)\n",
    "n_pts_per_prac = n_AF_pts_per_prac + n_nonAF_pts_per_prac\n",
    "print(\"Expected number SAFER Wearables participants per practice: %d (%d AF, %d non-AF)\" % (n_pts_per_prac, n_AF_pts_per_prac, n_nonAF_pts_per_prac))"
   ]
  },
  {
   "cell_type": "markdown",
   "id": "9d93f56f",
   "metadata": {},
   "source": [
    "### Number of GP Practices required"
   ]
  },
  {
   "cell_type": "code",
   "execution_count": 7,
   "id": "c97161f6",
   "metadata": {},
   "outputs": [
    {
     "name": "stdout",
     "output_type": "stream",
     "text": [
      "No. GP Practices required: 17 (17 for AF, and 5 for non-AF)\n"
     ]
    }
   ],
   "source": [
    "no_practices_for_AF = m.ceil(n_AF_pts/n_AF_pts_per_prac) # no. practices required to reach the required number of AF participants\n",
    "no_practices_for_nonAF = m.ceil(n_nonAF_pts/n_nonAF_pts_per_prac) # no. practices required to reach the required number of non-AF participants\n",
    "no_practices = max([no_practices_for_AF, no_practices_for_nonAF])\n",
    "print(\"No. GP Practices required: %d (%d for AF, and %d for non-AF)\" % (no_practices, no_practices_for_AF, no_practices_for_nonAF))"
   ]
  },
  {
   "cell_type": "markdown",
   "id": "d6e1e1c0",
   "metadata": {},
   "source": [
    "## Costs"
   ]
  },
  {
   "cell_type": "markdown",
   "id": "cd1206f9",
   "metadata": {},
   "source": [
    "### Assumptions"
   ]
  },
  {
   "cell_type": "code",
   "execution_count": 8,
   "id": "e3982822",
   "metadata": {},
   "outputs": [],
   "source": [
    "# tbc ...\n",
    "\n",
    "\n",
    "\n",
    "\n",
    "\n",
    "\n",
    "\n",
    "\n",
    "\n",
    "\n",
    "\n",
    "\n",
    "\n",
    "\n"
   ]
  }
 ],
 "metadata": {
  "kernelspec": {
   "display_name": "Python 3",
   "language": "python",
   "name": "python3"
  },
  "language_info": {
   "codemirror_mode": {
    "name": "ipython",
    "version": 3
   },
   "file_extension": ".py",
   "mimetype": "text/x-python",
   "name": "python",
   "nbconvert_exporter": "python",
   "pygments_lexer": "ipython3",
   "version": "3.8.8"
  },
  "toc": {
   "base_numbering": 1,
   "nav_menu": {},
   "number_sections": true,
   "sideBar": true,
   "skip_h1_title": false,
   "title_cell": "Table of Contents",
   "title_sidebar": "Contents",
   "toc_cell": true,
   "toc_position": {},
   "toc_section_display": true,
   "toc_window_display": false
  }
 },
 "nbformat": 4,
 "nbformat_minor": 5
}
